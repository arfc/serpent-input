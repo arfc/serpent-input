{
 "cells": [
  {
   "cell_type": "markdown",
   "metadata": {},
   "source": [
    "# msr2g_enrU\n",
    "\n",
    "## 2/10/17\n",
    "\n",
    "Serpent run yielded k\\_eff of 1.03\n",
    "\n",
    "![msr2g_enrU](msr2g_enrU_mesh1.png)\n",
    "\n",
    "# msr2g_part_U_single_cell\n",
    "\n",
    "## 2/10/17\n",
    "\n",
    "Serpent run yielded k$_{eff}$ of 1.44\n",
    "\n",
    "![msr2g_part_U_single_cell](msr2g_part_U_single_cell_mesh1.png)"
   ]
  },
  {
   "cell_type": "markdown",
   "metadata": {},
   "source": [
    "# msr2g_part_U_full_core\n",
    "\n",
    "## 2/13/17\n",
    "\n",
    "Serpent run yielded k$_{eff}$ of .79216 with\n",
    "- D ~ 55 cm\n",
    "- H = 162.56 cm\n",
    "- vacuum BCs\n",
    "\n",
    "![msr2g_part_U_full_core](msr2g_part_U_full_core_mesh1_small_radius.png)\n",
    "\n",
    "Dimensions based on buckling size given on pg. 39, MSRE Design and Operations, part iii, nuclear analysis\n",
    "\n",
    "- k$_{eff}$ = 1.07\n",
    "- D = 74.93 cm\n",
    "- H = 198.12 cm\n",
    "- vacuum BCs\n",
    "- graphite as special moderator material\n",
    "\n",
    "![msr2g_part_U_full_core_bigger](msr2g_part_U_full_core_mesh1.png)\n",
    "\n",
    "- k$_{eff}$ = 1.0545\n",
    "- D = 74.93 cm\n",
    "- H = 198.12 cm\n",
    "- vacuum BCs\n",
    "- graphite as regular doppler broadened material\n",
    "\n",
    "![msr2g_part_U_full_core_bigger](msr2g_part_U_full_core_mesh1_doppler_graphite.png))\n",
    "\n",
    "### 1144 K fuel\n",
    "\n",
    "- k$_{eff}$ = 1.04149\n",
    "- Fuel temperature coefficient of reactivity = -3.08e-5 [$\\frac{\\delta k}{k} / ^{\\circ}F$]"
   ]
  },
  {
   "cell_type": "code",
   "execution_count": 4,
   "metadata": {
    "collapsed": false
   },
   "outputs": [
    {
     "name": "stdout",
     "output_type": "stream",
     "text": [
      "-3.0844001896633395e-05\n"
     ]
    }
   ],
   "source": [
    "k_nom = 1.0545\n",
    "k_f_1144 = 1.04149\n",
    "\n",
    "fuel_reactivity = (k_f_1144 - k_nom) / k_nom / 400\n",
    "print(fuel_reactivity)"
   ]
  },
  {
   "cell_type": "markdown",
   "metadata": {
    "collapsed": true
   },
   "source": [
    "### 1144 K fuel and graphite\n",
    "\n",
    "- k_eff = 1.02315"
   ]
  },
  {
   "cell_type": "code",
   "execution_count": 8,
   "metadata": {
    "collapsed": false
   },
   "outputs": [
    {
     "name": "stdout",
     "output_type": "stream",
     "text": [
      "-7.43243243243243e-05\n",
      "-4.348032242769091e-05\n"
     ]
    }
   ],
   "source": [
    "k_f_g_1144 = 1.02315\n",
    "total_reactivity = (k_f_g_1144 - k_nom) / k_nom / 400\n",
    "print(total_reactivity)\n",
    "graph_reactivity = total_reactivity - fuel_reactivity\n",
    "print(graph_reactivity)"
   ]
  },
  {
   "cell_type": "code",
   "execution_count": 10,
   "metadata": {
    "collapsed": false
   },
   "outputs": [
    {
     "name": "stdout",
     "output_type": "stream",
     "text": [
      "6.78782230506\n",
      "5.96340885173\n",
      "18.1530500752\n"
     ]
    }
   ],
   "source": [
    "from numpy import abs\n",
    "print(abs(total_reactivity + 6.96e-5) / 6.96e-5 * 100)\n",
    "print(abs(fuel_reactivity + 3.28e-5) / 3.28e-5 * 100)\n",
    "print(abs(graph_reactivity + 3.68e-5) / 3.68e-5 * 100)"
   ]
  },
  {
   "cell_type": "markdown",
   "metadata": {},
   "source": [
    "# Summary\n",
    "\n",
    "## Serpent Fuel C calculation\n",
    "\n",
    "- $\\alpha_f = -3.08\\cdot 10^{-5} [\\frac{\\delta k}{k} / ^{\\circ}F]$\n",
    "- $\\alpha_g = -4.34\\cdot 10^{-5} [\\frac{\\delta k}{k} / ^{\\circ}F]$\n",
    "- $\\alpha_{tot} = -7.43\\cdot 10^{-5} [\\frac{\\delta k}{k} / ^{\\circ}F]$\n",
    "\n",
    "## MSRE report\n",
    "\n",
    "- $\\alpha_f = -3.28\\cdot 10^{-5} [\\frac{\\delta k}{k} / ^{\\circ}F]$\n",
    "- $\\alpha_g = -3.68\\cdot 10^{-5} [\\frac{\\delta k}{k} / ^{\\circ}F]$\n",
    "- $\\alpha_{tot} = -6.96\\cdot 10^{-5} [\\frac{\\delta k}{k} / ^{\\circ}F]$\n",
    "\n",
    "## % error\n",
    "- $\\alpha_f \\rightarrow 5.96%$\n",
    "- $\\alpha_g \\rightarrow 18.15%$\n",
    "- $\\alpha_{tot} \\rightarrow 6.79%$"
   ]
  },
  {
   "cell_type": "code",
   "execution_count": 3,
   "metadata": {
    "collapsed": false
   },
   "outputs": [
    {
     "name": "stdout",
     "output_type": "stream",
     "text": [
      "2.04715872548\n",
      "1.85258227049\n"
     ]
    }
   ],
   "source": [
    "from numpy import exp\n",
    "\n",
    "alpha_fuel_faeh = 1.18e-4\n",
    "alpha_fuel_kel = 1.8 * alpha_fuel_faeh\n",
    "alpha_graph_faeh = 1.0e-5\n",
    "alpha_graph_kel = 1.8 * alpha_graph_faeh\n",
    "rho0_fuel = 2.146\n",
    "rho0_graph = 1.86\n",
    "T0 = 922\n",
    "rho1144_fuel = rho0_fuel * exp(-alpha_fuel_kel * (1144 - T0))\n",
    "rho1144_graph = rho0_graph * exp(-alpha_graph_kel * (1144 - T0))\n",
    "print(rho1144_fuel)\n",
    "print(rho1144_graph)"
   ]
  },
  {
   "cell_type": "markdown",
   "metadata": {},
   "source": [
    "# msre_homogeneous\n",
    "\n",
    "## 2/13/17\n",
    "\n",
    "Serpent run yielded k$_{eff}$ of 1.03\n",
    "\n",
    "![msre_homogeneous](msre_homogeneous_mesh1.png)"
   ]
  },
  {
   "cell_type": "markdown",
   "metadata": {},
   "source": [
    "# General Notes\n",
    "\n",
    "## 2/13/17\n",
    "- pg. 39, MSRE Design and Operations, part iii, nuclear analysis: For one-region model of reactivity effects of temperature, geometric buckling used was that of a cylinder, **59** in. in diameter by **78** in. high. Three conditions:\n",
    "    - salt and graphite at 1200 F\n",
    "    - salt at 1600 F, graphite at 1200 F\n",
    "    - salt and graphite at 1600 F\n",
    "- Temperature Reactivity coefficients both negative for fuel and graphite\n",
    "- Most definite reactor geometry and material descriptions: pages 18 & 19 of MSRE Design and Op., part iii\n",
    "- On those pages is a 2D R-Z 20-region model; within each region the material composition is considered to be **uniform**\n",
    "- Critical concentrations of Uranium were calculated for three different salt compositions"
   ]
  },
  {
   "cell_type": "code",
   "execution_count": null,
   "metadata": {
    "collapsed": true
   },
   "outputs": [],
   "source": []
  }
 ],
 "metadata": {
  "kernelspec": {
   "display_name": "Python 3",
   "language": "python",
   "name": "python3"
  },
  "language_info": {
   "codemirror_mode": {
    "name": "ipython",
    "version": 3
   },
   "file_extension": ".py",
   "mimetype": "text/x-python",
   "name": "python",
   "nbconvert_exporter": "python",
   "pygments_lexer": "ipython3",
   "version": "3.5.2"
  }
 },
 "nbformat": 4,
 "nbformat_minor": 1
}
